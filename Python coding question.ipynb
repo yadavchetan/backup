{
 "cells": [
  {
   "cell_type": "markdown",
   "id": "5f57af04",
   "metadata": {},
   "source": [
    "# Fibonacci series"
   ]
  },
  {
   "cell_type": "code",
   "execution_count": 35,
   "id": "e8f52bd5",
   "metadata": {
    "scrolled": true
   },
   "outputs": [
    {
     "name": "stdout",
     "output_type": "stream",
     "text": [
      "1\n",
      "2\n",
      "3\n",
      "5\n",
      "8\n",
      "13\n",
      "21\n",
      "34\n",
      "55\n",
      "89\n"
     ]
    }
   ],
   "source": [
    "# normal approach\n",
    "ls = []\n",
    "n = 0\n",
    "m = 1\n",
    "for i in range(10):\n",
    "    nm = n + m\n",
    "    print(nm)\n",
    "    n = m\n",
    "    m = nm"
   ]
  },
  {
   "cell_type": "markdown",
   "id": "656f0a19",
   "metadata": {},
   "source": [
    "# Fibonacci Using Generators"
   ]
  },
  {
   "cell_type": "code",
   "execution_count": 1,
   "id": "b61d9533",
   "metadata": {},
   "outputs": [],
   "source": [
    "# using yeild "
   ]
  },
  {
   "cell_type": "markdown",
   "id": "241755f9",
   "metadata": {},
   "source": [
    "# Fibonacci Using recurssion"
   ]
  },
  {
   "cell_type": "code",
   "execution_count": 40,
   "id": "110e1597",
   "metadata": {},
   "outputs": [
    {
     "name": "stdout",
     "output_type": "stream",
     "text": [
      "Enter index number : 1\n",
      "Fibonaci number at index 1 is 1\n"
     ]
    }
   ],
   "source": [
    "def fibonacci(n):\n",
    "    \n",
    "    # check if the number is less than 0\n",
    "    if n<0:\n",
    "        print(\"incorrect input\")\n",
    "    \n",
    "    #check if number is 0\n",
    "    if n == 0:\n",
    "        return 0\n",
    "    \n",
    "    #check if numbre  is 1 or 2\n",
    "    \n",
    "    if n ==1 or n == 2:\n",
    "        return 1\n",
    "    \n",
    "    else:\n",
    "        return fibonacci(n-1) + fibonacci(n-2)\n",
    "    \n",
    "\n",
    "# Driver program\n",
    "\n",
    "n = input(\"Enter index number : \")\n",
    "print(\"Fibonaci number at index \", end='')\n",
    "\n",
    "print(n, \"is\", fibonacci(int(n)))"
   ]
  },
  {
   "cell_type": "code",
   "execution_count": 42,
   "id": "1452efa9",
   "metadata": {},
   "outputs": [
    {
     "data": {
      "text/plain": [
       "610"
      ]
     },
     "execution_count": 42,
     "metadata": {},
     "output_type": "execute_result"
    }
   ],
   "source": [
    "fibonacci(15)"
   ]
  },
  {
   "cell_type": "markdown",
   "id": "b17acab5",
   "metadata": {},
   "source": [
    "# Find the largest Number"
   ]
  },
  {
   "cell_type": "markdown",
   "id": "2e614d46",
   "metadata": {},
   "source": [
    "# 1. Find the Prime Number form n numbers"
   ]
  },
  {
   "cell_type": "code",
   "execution_count": 26,
   "id": "8faad4d4",
   "metadata": {
    "scrolled": true
   },
   "outputs": [
    {
     "name": "stdout",
     "output_type": "stream",
     "text": [
      "[3, 5, 7, 9]\n",
      "1\n",
      "2\n",
      "3\n",
      "5\n",
      "7\n",
      "11\n",
      "13\n",
      "17\n",
      "19\n"
     ]
    }
   ],
   "source": [
    "lst1 = [1,2,3,4,5,6,7,8,9,0]\n",
    "\n",
    "def prim(arr):\n",
    "    lst3 = []\n",
    "    for i in arr:\n",
    "        if i > 1:\n",
    "            if i % 2 != 0:\n",
    "                lst3.append(i)\n",
    "    print(lst3)\n",
    "    \n",
    "prim(lst1)\n",
    "        \n",
    "    \n",
    "# print all the prime numbers between 100 to 200\n",
    "\n",
    "for num in range(1,20):\n",
    "    \n",
    "    if all(num%i!=0 for i in range(2,num)):\n",
    "        print(num)\n",
    "    "
   ]
  },
  {
   "cell_type": "code",
   "execution_count": 27,
   "id": "47b4204c",
   "metadata": {},
   "outputs": [
    {
     "name": "stdout",
     "output_type": "stream",
     "text": [
      "1\n",
      "1\n",
      "3\n",
      "4\n",
      "1\n",
      "5\n",
      "3\n",
      "1\n",
      "9\n",
      "8\n",
      "7\n",
      "6\n",
      "5\n",
      "4\n",
      "3\n",
      "2\n",
      "1\n"
     ]
    }
   ],
   "source": [
    "for i in range(2,num):\n",
    "    print(num%i)"
   ]
  },
  {
   "cell_type": "markdown",
   "id": "9031161b",
   "metadata": {},
   "source": [
    "# 2. Write sort function to sort elemens in a list"
   ]
  },
  {
   "cell_type": "code",
   "execution_count": null,
   "id": "98b24acf",
   "metadata": {},
   "outputs": [],
   "source": []
  },
  {
   "cell_type": "markdown",
   "id": "d8e88cc0",
   "metadata": {},
   "source": [
    "# 3. write sort function without using list.sort()"
   ]
  },
  {
   "cell_type": "code",
   "execution_count": null,
   "id": "5fa26983",
   "metadata": {},
   "outputs": [],
   "source": []
  },
  {
   "cell_type": "markdown",
   "id": "5b02de7d",
   "metadata": {},
   "source": [
    "# 4. Write python program to print a list in reverse\n"
   ]
  },
  {
   "cell_type": "code",
   "execution_count": null,
   "id": "ad02ac11",
   "metadata": {},
   "outputs": [],
   "source": []
  },
  {
   "cell_type": "markdown",
   "id": "e85032de",
   "metadata": {},
   "source": [
    "# 5. Write a python program to check whether a string is plaindrome or not\n"
   ]
  },
  {
   "cell_type": "code",
   "execution_count": null,
   "id": "97b71779",
   "metadata": {},
   "outputs": [],
   "source": []
  },
  {
   "cell_type": "markdown",
   "id": "4eb4dd4c",
   "metadata": {},
   "source": [
    "# 6. write a program to find duplicates in a list"
   ]
  },
  {
   "cell_type": "code",
   "execution_count": 4,
   "id": "012eaa47",
   "metadata": {},
   "outputs": [
    {
     "name": "stdout",
     "output_type": "stream",
     "text": [
      "{98, 3}\n",
      "{98, 3}\n"
     ]
    }
   ],
   "source": [
    "lst = [1,2,0,3,4,6,7,8,9,5,10,11,98,98,3]\n",
    "x=1\n",
    "lst.sort\n",
    "for i in range(len(lst)):\n",
    "    #print(i)\n",
    "    if lst[i] == x:\n",
    "        #print(x)\n",
    "        #print(lst[i])\n",
    "        \n",
    "        x = lst[i] + 2\n",
    "        \n",
    "#print(lst[i])\n",
    "\n",
    "lst2 = []\n",
    "for i in lst:\n",
    "    cnt = lst.count(i)\n",
    "    if cnt > 1:\n",
    "        lst2.append(i)\n",
    "print(set(lst2))\n",
    "        \n",
    "\n",
    "\n",
    "print(set([x for x in lst if lst.count(x) >1]))"
   ]
  },
  {
   "cell_type": "markdown",
   "id": "49d984ac",
   "metadata": {},
   "source": [
    "# 7. wrtie a prgram to print number of words in a  sentence"
   ]
  },
  {
   "cell_type": "code",
   "execution_count": 5,
   "id": "4988fb5a",
   "metadata": {},
   "outputs": [
    {
     "ename": "NameError",
     "evalue": "name 'nltk' is not defined",
     "output_type": "error",
     "traceback": [
      "\u001b[1;31m---------------------------------------------------------------------------\u001b[0m",
      "\u001b[1;31mNameError\u001b[0m                                 Traceback (most recent call last)",
      "Input \u001b[1;32mIn [5]\u001b[0m, in \u001b[0;36m<cell line: 1>\u001b[1;34m()\u001b[0m\n\u001b[1;32m----> 1\u001b[0m \u001b[43mnltk\u001b[49m\u001b[38;5;241m.\u001b[39mdownload(\u001b[38;5;124m'\u001b[39m\u001b[38;5;124mpunkt\u001b[39m\u001b[38;5;124m'\u001b[39m)\n\u001b[0;32m      2\u001b[0m \u001b[38;5;28;01mimport\u001b[39;00m \u001b[38;5;21;01mnltk\u001b[39;00m\n\u001b[0;32m      3\u001b[0m \u001b[38;5;28;01mfrom\u001b[39;00m \u001b[38;5;21;01mnltk\u001b[39;00m\u001b[38;5;21;01m.\u001b[39;00m\u001b[38;5;21;01mtokenize\u001b[39;00m \u001b[38;5;28;01mimport\u001b[39;00m word_tokenize\n",
      "\u001b[1;31mNameError\u001b[0m: name 'nltk' is not defined"
     ]
    }
   ],
   "source": [
    "\n",
    "\n",
    "nltk.download('punkt')\n",
    "import nltk\n",
    "from nltk.tokenize import word_tokenize\n",
    "\n",
    "sent = 'I am having a very nice day'\n",
    "\n",
    "# Approach 1\n",
    "lst = word_tokenize(sent)\n",
    "print(len(lst))\n",
    "\n",
    "\n",
    "# Approach 2\n",
    "print(len(sent.split()))"
   ]
  },
  {
   "cell_type": "markdown",
   "id": "4c804089",
   "metadata": {},
   "source": [
    "# 8. Write a program to search an element in an array"
   ]
  },
  {
   "cell_type": "code",
   "execution_count": null,
   "id": "de6a82d9",
   "metadata": {},
   "outputs": [],
   "source": [
    "\n",
    "\n",
    "def search(arr, x):\n",
    "    for i in range(len(arr)):\n",
    "        if arr[i] == x:\n",
    "            return i\n",
    "    print('no present in array')\n",
    "\n",
    "l= [1,2,3,4,5,6,7,8,9,10]\n",
    "\n",
    "search(l,10)"
   ]
  },
  {
   "cell_type": "markdown",
   "id": "a6b03582",
   "metadata": {},
   "source": [
    "# 9. Write a program to implement a binary search"
   ]
  },
  {
   "cell_type": "code",
   "execution_count": null,
   "id": "ace2dd0d",
   "metadata": {},
   "outputs": [],
   "source": [
    "\n",
    "# https://www.askpython.com/python/examples/binary-search-algorithm-in-python#:~:text=%20Binary%20Search%20in%20Python%20%201%20We,or%20equal%20to%20the%20end%20because...%20More%20\n",
    "\n",
    "l= [1,2,3,4,5,6,7,8,9,10]\n",
    "def binary_serach(arr, target):\n",
    "    lower = 0\n",
    "    upper = len(arr)\n",
    "    while lower < upper:\n",
    "        x = lower + (upper - lower) // 2\n",
    "        val = arr[x]\n",
    "        if target == val:\n",
    "            return x\n",
    "        elif target > val:\n",
    "            if lower == x:\n",
    "                break\n",
    "            lower = x\n",
    "            \n",
    "        elif target < val:\n",
    "            upper = x\n",
    "            \n",
    "binary_serach(l,6)"
   ]
  },
  {
   "cell_type": "markdown",
   "id": "84867a0e",
   "metadata": {},
   "source": [
    "# 10. Write a program to plot a bar chart"
   ]
  },
  {
   "cell_type": "code",
   "execution_count": null,
   "id": "ad49d0ea",
   "metadata": {},
   "outputs": [],
   "source": [
    "#!pip install matplotlib\n",
    "import matplotlib.pyplot as plt\n",
    "import numpy as np\n",
    "\n",
    "# create a datset\n",
    "\n",
    "np.random.seed(3)\n",
    "x = 0.5 + np.arange(8)\n",
    "y = np.random.uniform(2, 7, len(x))\n",
    "\n",
    "fig, ax = plt.subplots()\n",
    "\n",
    "ax.bar(x, y, width=1, edgecolor=\"white\", linewidth=0.7)\n",
    "\n",
    "ax.set(xlim=(0, 8), xticks=np.arange(1, 8),\n",
    "       ylim=(0, 8), yticks=np.arange(1, 8))\n",
    "\n",
    "plt.show()"
   ]
  },
  {
   "cell_type": "markdown",
   "id": "bb3bfddd",
   "metadata": {},
   "source": [
    "# 11. Write a program to join 2 strings"
   ]
  },
  {
   "cell_type": "code",
   "execution_count": null,
   "id": "cdb1af60",
   "metadata": {},
   "outputs": [],
   "source": []
  },
  {
   "cell_type": "markdown",
   "id": "6f1ed457",
   "metadata": {},
   "source": [
    "# 12. Write a program to extract digit from given string"
   ]
  },
  {
   "cell_type": "code",
   "execution_count": null,
   "id": "6b67430e",
   "metadata": {},
   "outputs": [],
   "source": []
  },
  {
   "cell_type": "markdown",
   "id": "3bc2be7a",
   "metadata": {},
   "source": [
    "# 13. Write a program to split string using newline delimeter"
   ]
  },
  {
   "cell_type": "code",
   "execution_count": null,
   "id": "7b37d928",
   "metadata": {},
   "outputs": [],
   "source": []
  },
  {
   "cell_type": "markdown",
   "id": "177b512a",
   "metadata": {},
   "source": [
    "# 14. Write a program to delete the recurring character and return new string"
   ]
  },
  {
   "cell_type": "code",
   "execution_count": null,
   "id": "6aefa99c",
   "metadata": {},
   "outputs": [],
   "source": []
  },
  {
   "cell_type": "markdown",
   "id": "db329440",
   "metadata": {},
   "source": [
    "# 15. Write a program to create a dice game"
   ]
  },
  {
   "cell_type": "code",
   "execution_count": null,
   "id": "18a39706",
   "metadata": {},
   "outputs": [],
   "source": []
  },
  {
   "cell_type": "markdown",
   "id": "e27e9563",
   "metadata": {},
   "source": [
    "# 16. Wrire a program to find the missing least positive number from the list"
   ]
  },
  {
   "cell_type": "code",
   "execution_count": 57,
   "id": "712fa688",
   "metadata": {},
   "outputs": [
    {
     "name": "stdout",
     "output_type": "stream",
     "text": [
      "4\n"
     ]
    }
   ],
   "source": [
    "''' approach: first create a list of ony positive numbers then sort them, them take a max and min value from the sorted list for \n",
    "creating a comparitive list by using them in a range, then we compare the 2 list by conveting them to a set and them taking the \n",
    "0th index value of the sorted list'''\n",
    "\n",
    "\n",
    "lst = [1,2,3,-3,-9,7,78,92]\n",
    "lst2 = []\n",
    "def mlp(l):\n",
    "    for i in lst:\n",
    "        if i > 0:\n",
    "            lst2.append(i)\n",
    "    lst2.sort()\n",
    "\n",
    "    n = max(lst2)\n",
    "    m = min(lst2)\n",
    "    compare_list = []\n",
    "    for i in range(m,n + 1):\n",
    "        compare_list.append(i)\n",
    "    se = list(set(compare_list) - set(lst2))\n",
    "    print(se[0])\n",
    "\n",
    "mlp(lst)"
   ]
  },
  {
   "cell_type": "markdown",
   "id": "df61d387",
   "metadata": {},
   "source": [
    "# 17. List append vs extend"
   ]
  },
  {
   "cell_type": "code",
   "execution_count": 66,
   "id": "1e328f1c",
   "metadata": {},
   "outputs": [
    {
     "name": "stdout",
     "output_type": "stream",
     "text": [
      "Append [1, 2, 3, [4, 5]]\n",
      "Extend [1, 2, 3, 4, 5]\n",
      "Insert [1, 2, 'A', 3]\n"
     ]
    }
   ],
   "source": [
    "#append appends a specified object at the end of the list:\n",
    "\n",
    "x = [1, 2, 3]\n",
    "x.append([4, 5])\n",
    "print('Append',x)\n",
    "\n",
    "#extend extends the list by appending elements from the specified iterable:\n",
    "\n",
    "x = [1, 2, 3]\n",
    "x.extend([4, 5])\n",
    "print('Extend', x)\n",
    "\n",
    "\n",
    "x = [1, 2, 3]\n",
    "x.insert(2, 'A')\n",
    "print('Insert', x)"
   ]
  },
  {
   "cell_type": "code",
   "execution_count": null,
   "id": "8608e1e7",
   "metadata": {},
   "outputs": [],
   "source": []
  }
 ],
 "metadata": {
  "kernelspec": {
   "display_name": "Python 3 (ipykernel)",
   "language": "python",
   "name": "python3"
  },
  "language_info": {
   "codemirror_mode": {
    "name": "ipython",
    "version": 3
   },
   "file_extension": ".py",
   "mimetype": "text/x-python",
   "name": "python",
   "nbconvert_exporter": "python",
   "pygments_lexer": "ipython3",
   "version": "3.9.12"
  }
 },
 "nbformat": 4,
 "nbformat_minor": 5
}
